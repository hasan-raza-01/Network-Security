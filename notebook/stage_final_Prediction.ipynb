{
 "cells": [
  {
   "cell_type": "code",
   "execution_count": null,
   "metadata": {},
   "outputs": [],
   "source": [
    "import os\n",
    "\n",
    "os.chdir(\"..\")\n",
    "os.getcwd()"
   ]
  },
  {
   "cell_type": "code",
   "execution_count": null,
   "metadata": {},
   "outputs": [],
   "source": [
    "from dataclasses import dataclass\n",
    "from package.utils import read_yaml\n",
    "\n",
    "\n",
    "CONFIG = read_yaml(\"config/config.yaml\")\n",
    "\n",
    "@dataclass\n",
    "class PredictionConstants:\n",
    "    ARITFACTS_ROOT_DIR_NAME = CONFIG.ARITFACTS_ROOT_DIR_NAME\n",
    "    PREDICTION_ROOT_DIR_NAME = CONFIG.PREDICTION.ROOT_DIR_NAME\n",
    "    OUTPUT_FILE_NAME = CONFIG.PREDICTION.OUTPUT_FILE_NAME"
   ]
  },
  {
   "cell_type": "code",
   "execution_count": null,
   "metadata": {},
   "outputs": [],
   "source": [
    "print(\"ARITFACTS_ROOT_DIR_NAME:\", PredictionConstants.ARITFACTS_ROOT_DIR_NAME)\n",
    "print(\"PREDICTION_ROOT_DIR_NAME:\", PredictionConstants.PREDICTION_ROOT_DIR_NAME)\n",
    "print(\"OUTPUT_FILE_NAME:\", PredictionConstants.OUTPUT_FILE_NAME)"
   ]
  },
  {
   "cell_type": "code",
   "execution_count": null,
   "metadata": {},
   "outputs": [],
   "source": [
    "from dataclasses import dataclass\n",
    "from pathlib import Path\n",
    "\n",
    "\n",
    "@dataclass\n",
    "class PredictionConfigEntity:\n",
    "    ARITFACTS_ROOT_DIR_PATH = Path\n",
    "    PREDICTION_ROOT_DIR_PATH = Path\n",
    "    OUTPUT_FILE_PATH = Path"
   ]
  },
  {
   "cell_type": "code",
   "execution_count": null,
   "metadata": {},
   "outputs": [],
   "source": [
    "from dataclasses import dataclass\n",
    "from pathlib import Path\n",
    "from datetime import datetime\n",
    "import os\n",
    "\n",
    "\n",
    "@dataclass\n",
    "class PredictionConfig:\n",
    "    timestamp = datetime.now().strftime(\"%Y_%m_%d_%H_%M_%S\")\n",
    "    ARITFACTS_ROOT_DIR_PATH = Path(PredictionConstants.ARITFACTS_ROOT_DIR_NAME)\n",
    "    PREDICTION_ROOT_DIR_PATH = os.path.join(ARITFACTS_ROOT_DIR_PATH, PredictionConstants.PREDICTION_ROOT_DIR_NAME)\n",
    "    OUTPUT_FILE_PATH = os.path.join(PREDICTION_ROOT_DIR_PATH, f\"{timestamp}_{PredictionConstants.OUTPUT_FILE_NAME}\")"
   ]
  },
  {
   "cell_type": "code",
   "execution_count": null,
   "metadata": {},
   "outputs": [],
   "source": [
    "print(\"ARITFACTS_ROOT_DIR_NAME:\", PredictionConfig.ARITFACTS_ROOT_DIR_PATH)\n",
    "print(\"PREDICTION_ROOT_DIR_PATH:\", PredictionConfig.PREDICTION_ROOT_DIR_PATH)\n",
    "print(\"OUTPUT_FILE_PATH:\", PredictionConfig.OUTPUT_FILE_PATH)"
   ]
  },
  {
   "cell_type": "code",
   "execution_count": null,
   "metadata": {},
   "outputs": [],
   "source": [
    "from dataclasses import dataclass\n",
    "from package.exception import CustomException\n",
    "from package.utils import create_dirs, save_json\n",
    "import sys\n",
    "\n",
    "\n",
    "@dataclass\n",
    "class PredictionComponents:\n",
    "    prediction_config: PredictionConfigEntity\n",
    "\n",
    "    def predict(self, model, preprocessor, data)->list:\n",
    "        \"\"\"makes model's prediction after transforming the data with preprocessor\n",
    "\n",
    "        Args:\n",
    "            model (sklearn model): model object for prediction\n",
    "            preprocessor (): transformation object for data transformation\n",
    "            data (dataframe): data for prediction\n",
    "\n",
    "        Returns:\n",
    "            list: _description_\n",
    "        \"\"\"\n",
    "        try:\n",
    "            # create required dir's\n",
    "            create_dirs(self.prediction_config.PREDICTION_ROOT_DIR_PATH)\n",
    "\n",
    "            # get model and preprocessor\n",
    "            self.model = model\n",
    "            self.preprocessor = preprocessor\n",
    "\n",
    "            # transform data and predict\n",
    "            data = self.preprocessor.transform(data)\n",
    "            prediction = self.model.predict(data)\n",
    "\n",
    "            # save prediction\n",
    "            save_json({str(self.model).split(\"(\")[0].lower():prediction}, self.prediction_config.OUTPUT_FILE_PATH)\n",
    "            \n",
    "            return prediction\n",
    "        except Exception as e:\n",
    "            raise CustomException(e, sys)"
   ]
  },
  {
   "cell_type": "code",
   "execution_count": null,
   "metadata": {},
   "outputs": [],
   "source": []
  }
 ],
 "metadata": {
  "kernelspec": {
   "display_name": "Python 3",
   "language": "python",
   "name": "python3"
  },
  "language_info": {
   "codemirror_mode": {
    "name": "ipython",
    "version": 3
   },
   "file_extension": ".py",
   "mimetype": "text/x-python",
   "name": "python",
   "nbconvert_exporter": "python",
   "pygments_lexer": "ipython3",
   "version": "3.12.0"
  }
 },
 "nbformat": 4,
 "nbformat_minor": 2
}
