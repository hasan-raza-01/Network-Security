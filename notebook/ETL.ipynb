{
 "cells": [
  {
   "cell_type": "code",
   "execution_count": null,
   "metadata": {},
   "outputs": [],
   "source": [
    "import os\n",
    "os.chdir(\"..\")\n",
    "os.getcwd()"
   ]
  },
  {
   "cell_type": "code",
   "execution_count": null,
   "metadata": {},
   "outputs": [],
   "source": [
    "from package.logger import logging\n",
    "from package.exception import CustomException\n",
    "import sys\n",
    "import pymongo\n",
    "from typing import ClassVar\n",
    "import pandas as pd\n",
    "import json\n",
    "import os\n",
    "import certifi\n",
    "from dotenv import load_dotenv\n",
    "from dataclasses import dataclass"
   ]
  },
  {
   "cell_type": "code",
   "execution_count": null,
   "metadata": {},
   "outputs": [],
   "source": [
    "load_dotenv()\n",
    "uri = os.getenv(\"URI\")\n",
    "\n",
    "ca = certifi.where()"
   ]
  },
  {
   "cell_type": "code",
   "execution_count": null,
   "metadata": {},
   "outputs": [],
   "source": [
    "@dataclass\n",
    "class ExtractTransformLoad:\n",
    "    __Client: ClassVar = pymongo.MongoClient(uri)\n",
    "    __Database: ClassVar = __Client[\"Network-Security\"]\n",
    "    __Collection: ClassVar = __Database[\"Data\"]\n",
    "\n",
    "    def csv_to_json(self, path:str)-> list:\n",
    "        \"\"\"Converts csv file into a list of json\n",
    "\n",
    "        Args:\n",
    "            path (str): path of CSV file where data is available.\n",
    "\n",
    "        Returns:\n",
    "            list: list of json for the whole file.\n",
    "        \"\"\"\n",
    "        try:\n",
    "            data = pd.read_csv(path)\n",
    "            records = list(json.loads(data.T.to_json()).values())\n",
    "            return records\n",
    "        except Exception as e:\n",
    "            logging.error(e)\n",
    "            raise CustomException(e, sys)\n",
    "        \n",
    "    def push_to_db(self, records:list, collection:list)-> int:\n",
    "        \"\"\"pushes all records into collection of database\n",
    "\n",
    "        Args:\n",
    "            records (list): list of json\n",
    "            collection (id): mongoclient database collection full id\n",
    "\n",
    "        Returns:\n",
    "            int: lenght of records\n",
    "        \"\"\"\n",
    "        try:\n",
    "            self.records = records\n",
    "            self.collection = collection\n",
    "            self.collection.insert_many(self.records)\n",
    "            return len(records)\n",
    "        except Exception as e:\n",
    "            logging.error(e)\n",
    "            raise CustomException(e, sys)\n",
    "        \n",
    "    def main(self)-> int:\n",
    "        \"\"\"Runs the full ETL process\n",
    "        \"\"\"\n",
    "        path = \"C:/Users/hasan/Documents/DS/Udemy/ML-Project-with-ETL-Pipeline/materials/networksecurity/Network_Data/phisingData.csv\"\n",
    "        collection = ExtractTransformLoad.__Collection\n",
    "        records = self.csv_to_json(path)\n",
    "        records_len = self.push_to_db(records, collection)\n",
    "        return records_len\n",
    "        "
   ]
  },
  {
   "cell_type": "code",
   "execution_count": null,
   "metadata": {},
   "outputs": [],
   "source": [
    "ETL_obj = ExtractTransformLoad()\n",
    "print(ETL_obj.main())"
   ]
  },
  {
   "cell_type": "code",
   "execution_count": null,
   "metadata": {},
   "outputs": [],
   "source": [
    "df = pd.read_csv(\"C:/Users/hasan/Documents/DS/Udemy/ML-Project-with-ETL-Pipeline/materials/networksecurity/Network_Data/phisingData.csv\")"
   ]
  },
  {
   "cell_type": "code",
   "execution_count": null,
   "metadata": {},
   "outputs": [],
   "source": [
    "records = list(json.loads(df.T.to_json()).values())"
   ]
  },
  {
   "cell_type": "code",
   "execution_count": null,
   "metadata": {},
   "outputs": [],
   "source": [
    "df"
   ]
  },
  {
   "cell_type": "code",
   "execution_count": null,
   "metadata": {},
   "outputs": [],
   "source": []
  }
 ],
 "metadata": {
  "kernelspec": {
   "display_name": "venv",
   "language": "python",
   "name": "python3"
  },
  "language_info": {
   "codemirror_mode": {
    "name": "ipython",
    "version": 3
   },
   "file_extension": ".py",
   "mimetype": "text/x-python",
   "name": "python",
   "nbconvert_exporter": "python",
   "pygments_lexer": "ipython3",
   "version": "3.12.0"
  }
 },
 "nbformat": 4,
 "nbformat_minor": 2
}
